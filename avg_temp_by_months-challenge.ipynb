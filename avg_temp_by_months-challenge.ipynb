{
 "cells": [
  {
   "cell_type": "code",
   "execution_count": 1,
   "metadata": {},
   "outputs": [],
   "source": [
    "# dependencies\n",
    "import pandas as pd\n",
    "import numpy as np\n",
    "import sqlalchemy\n",
    "from sqlalchemy.ext.automap import automap_base\n",
    "from sqlalchemy.orm import Session\n",
    "from sqlalchemy import create_engine, inspect, join, outerjoin, MetaData, Table\n"
   ]
  },
  {
   "cell_type": "code",
   "execution_count": 2,
   "metadata": {},
   "outputs": [],
   "source": [
    "# create engine to hawaii.sqlite\n",
    "connect_string = \"sqlite:///static/data/climateDB.db\"\n",
    "\n",
    "# reflect the tables\n",
    "engine = create_engine(connect_string) \n",
    "\n",
    "# reflect an existing database into a new model\n",
    "Base = automap_base()\n",
    "\n",
    "# reflect the tables\n",
    "Base.prepare(engine, reflect =True)\n"
   ]
  },
  {
   "cell_type": "code",
   "execution_count": 3,
   "metadata": {},
   "outputs": [
    {
     "data": {
      "text/plain": [
       "['CO2_emission', 'country_demo', 'temp_change']"
      ]
     },
     "execution_count": 3,
     "metadata": {},
     "output_type": "execute_result"
    }
   ],
   "source": [
    "Base.classes.keys()"
   ]
  },
  {
   "cell_type": "code",
   "execution_count": 4,
   "metadata": {},
   "outputs": [],
   "source": [
    "# Save references to each table\n",
    "Emission = Base.classes.CO2_emission\n",
    "Temp_change = Base.classes.temp_change"
   ]
  },
  {
   "cell_type": "code",
   "execution_count": 5,
   "metadata": {},
   "outputs": [],
   "source": [
    "# Create a session (link) from Python to the sqlite DB\n",
    "session = Session(bind = engine)\n",
    "\n",
    "#Filter the data for the year >= 1961\n",
    "results_emission = session.query(Emission).filter(Emission.Year >= 1961)\n",
    "#print(results) "
   ]
  },
  {
   "cell_type": "code",
   "execution_count": 6,
   "metadata": {},
   "outputs": [
    {
     "name": "stdout",
     "output_type": "stream",
     "text": [
      "                       Entity  Code  Year  AnnualCO2emissions\n",
      "0                      Africa  None  1961           161437399\n",
      "1                        Asia  None  1961          1392745886\n",
      "2  Asia (excl. China & India)  None  1961           721204193\n",
      "3                       EU-27  None  1961          2157634122\n",
      "4                       EU-28  None  1961          2746248923\n"
     ]
    }
   ],
   "source": [
    "emission_df = pd.read_sql(results_emission.statement, session.connection())\n",
    "\n",
    "print(emission_df.head())\n",
    "results_temp = session.query(Temp_change)\n",
    "\n",
    "#print(results) \n",
    "\n",
    "temp_df = pd.read_sql(results_temp.statement, session.connection())\n",
    "\n",
    "selection = ['DecJanFeb', 'MarAprMay', 'JunJulAug', 'SepOctNov']"
   ]
  },
  {
   "cell_type": "code",
   "execution_count": 7,
   "metadata": {},
   "outputs": [
    {
     "name": "stderr",
     "output_type": "stream",
     "text": [
      "C:\\Users\\ubc\\anaconda3\\envs\\pythonData\\lib\\site-packages\\ipykernel_launcher.py:9: SettingWithCopyWarning: \n",
      "A value is trying to be set on a copy of a slice from a DataFrame.\n",
      "Try using .loc[row_indexer,col_indexer] = value instead\n",
      "\n",
      "See the caveats in the documentation: https://pandas.pydata.org/pandas-docs/stable/user_guide/indexing.html#returning-a-view-versus-a-copy\n",
      "  if __name__ == '__main__':\n"
     ]
    }
   ],
   "source": [
    "\n",
    "\n",
    "\n",
    "\n",
    "season_df = temp_df.loc[temp_df[\"Months\"].isin(selection)]\n",
    "\n",
    "#filter by months\n",
    "month_df = temp_df.loc[(~temp_df[\"Months\"].isin(selection)) & (temp_df[\"Months\"] != 'Meteorological year') ]\n",
    "\n",
    "# filter Meteorological year\n",
    "meteor_df = temp_df.loc[temp_df[\"Months\"] == 'Meteorological year' ]\n",
    "# Calculate avg temp per Meteorological year\n",
    "# meteor_df['avg_temp']= meteor_df.mean(axis =1)\n",
    "# meteor_id_df = meteor_df.set_index('Area')\n",
    "\n",
    "session.close() "
   ]
  },
  {
   "cell_type": "code",
   "execution_count": 8,
   "metadata": {},
   "outputs": [
    {
     "name": "stderr",
     "output_type": "stream",
     "text": [
      "C:\\Users\\ubc\\anaconda3\\envs\\pythonData\\lib\\site-packages\\ipykernel_launcher.py:2: SettingWithCopyWarning: \n",
      "A value is trying to be set on a copy of a slice from a DataFrame.\n",
      "Try using .loc[row_indexer,col_indexer] = value instead\n",
      "\n",
      "See the caveats in the documentation: https://pandas.pydata.org/pandas-docs/stable/user_guide/indexing.html#returning-a-view-versus-a-copy\n",
      "  \n"
     ]
    },
    {
     "data": {
      "text/html": [
       "<div>\n",
       "<style scoped>\n",
       "    .dataframe tbody tr th:only-of-type {\n",
       "        vertical-align: middle;\n",
       "    }\n",
       "\n",
       "    .dataframe tbody tr th {\n",
       "        vertical-align: top;\n",
       "    }\n",
       "\n",
       "    .dataframe thead th {\n",
       "        text-align: right;\n",
       "    }\n",
       "</style>\n",
       "<table border=\"1\" class=\"dataframe\">\n",
       "  <thead>\n",
       "    <tr style=\"text-align: right;\">\n",
       "      <th></th>\n",
       "      <th>field1</th>\n",
       "      <th>Area</th>\n",
       "      <th>Months</th>\n",
       "      <th>Element</th>\n",
       "      <th>Unit</th>\n",
       "      <th>1961</th>\n",
       "      <th>1962</th>\n",
       "      <th>1963</th>\n",
       "      <th>1964</th>\n",
       "      <th>1965</th>\n",
       "      <th>...</th>\n",
       "      <th>2011</th>\n",
       "      <th>2012</th>\n",
       "      <th>2013</th>\n",
       "      <th>2014</th>\n",
       "      <th>2015</th>\n",
       "      <th>2016</th>\n",
       "      <th>2017</th>\n",
       "      <th>2018</th>\n",
       "      <th>2019</th>\n",
       "      <th>avg_temp</th>\n",
       "    </tr>\n",
       "  </thead>\n",
       "  <tbody>\n",
       "    <tr>\n",
       "      <th>1250</th>\n",
       "      <td>3534</td>\n",
       "      <td>India</td>\n",
       "      <td>Meteorological year</td>\n",
       "      <td>Temperature change</td>\n",
       "      <td>°C</td>\n",
       "      <td>-0.23</td>\n",
       "      <td>-0.531</td>\n",
       "      <td>-0.064</td>\n",
       "      <td>0.002</td>\n",
       "      <td>-0.06</td>\n",
       "      <td>...</td>\n",
       "      <td>0.235</td>\n",
       "      <td>0.364</td>\n",
       "      <td>0.307</td>\n",
       "      <td>0.419</td>\n",
       "      <td>0.576</td>\n",
       "      <td>0.977</td>\n",
       "      <td>0.866</td>\n",
       "      <td>0.769</td>\n",
       "      <td>0.685</td>\n",
       "      <td>59.113017</td>\n",
       "    </tr>\n",
       "  </tbody>\n",
       "</table>\n",
       "<p>1 rows × 65 columns</p>\n",
       "</div>"
      ],
      "text/plain": [
       "      field1   Area               Months             Element Unit  1961  \\\n",
       "1250    3534  India  Meteorological year  Temperature change   °C -0.23   \n",
       "\n",
       "       1962   1963   1964  1965  ...   2011   2012   2013   2014   2015  \\\n",
       "1250 -0.531 -0.064  0.002 -0.06  ...  0.235  0.364  0.307  0.419  0.576   \n",
       "\n",
       "       2016   2017   2018   2019   avg_temp  \n",
       "1250  0.977  0.866  0.769  0.685  59.113017  \n",
       "\n",
       "[1 rows x 65 columns]"
      ]
     },
     "execution_count": 8,
     "metadata": {},
     "output_type": "execute_result"
    }
   ],
   "source": [
    "# meteor_df.drop(columns=['field1','avg_temp'])\n",
    "# meteor_df['avg_temp']= meteor_df.mean(axis =1)\n",
    "# meteor_df[meteor_df[\"Area\"] == \"India\"]"
   ]
  },
  {
   "cell_type": "code",
   "execution_count": 12,
   "metadata": {},
   "outputs": [
    {
     "data": {
      "text/plain": [
       "1961       -0.230\n",
       "1962       -0.531\n",
       "1963       -0.064\n",
       "1964        0.002\n",
       "1965       -0.060\n",
       "1966        0.290\n",
       "1967       -0.214\n",
       "1968       -0.243\n",
       "1969        0.300\n",
       "1970        0.034\n",
       "1971       -0.483\n",
       "1972        0.014\n",
       "1973        0.342\n",
       "1974        0.014\n",
       "1975       -0.317\n",
       "1976       -0.023\n",
       "1977        0.142\n",
       "1978       -0.165\n",
       "1979        0.281\n",
       "1980        0.384\n",
       "1981        0.040\n",
       "1982       -0.067\n",
       "1983       -0.206\n",
       "1984       -0.167\n",
       "1985        0.137\n",
       "1986        0.120\n",
       "1987        0.509\n",
       "1988        0.436\n",
       "1989       -0.083\n",
       "1990       -0.146\n",
       "1991        0.114\n",
       "1992       -0.045\n",
       "1993        0.134\n",
       "1994        0.009\n",
       "1995        0.133\n",
       "1996        0.233\n",
       "1997       -0.169\n",
       "1998        0.493\n",
       "1999        0.381\n",
       "2000        0.274\n",
       "2001        0.398\n",
       "2002        0.735\n",
       "2003        0.583\n",
       "2004        0.475\n",
       "2005        0.479\n",
       "2006        0.578\n",
       "2007        0.513\n",
       "2008        0.167\n",
       "2009        1.035\n",
       "2010        1.017\n",
       "2011        0.235\n",
       "2012        0.364\n",
       "2013        0.307\n",
       "2014        0.419\n",
       "2015        0.576\n",
       "2016        0.977\n",
       "2017        0.866\n",
       "2018        0.769\n",
       "2019        0.685\n",
       "avg_temp    1.198\n",
       "Name: India, dtype: float64"
      ]
     },
     "execution_count": 12,
     "metadata": {},
     "output_type": "execute_result"
    }
   ],
   "source": [
    "meteor_df_new = meteor_df.drop(columns=[\"field1\", \"Months\", \"Element\", \"Unit\"])\n",
    "meteor_df_new = meteor_df_new.set_index('Area')\n",
    "meteor_df_new['avg_temp']= round(meteor_df_new.mean(axis =1),3)\n",
    "meteor_df_new.loc[\"India\"]"
   ]
  },
  {
   "cell_type": "code",
   "execution_count": null,
   "metadata": {},
   "outputs": [],
   "source": []
  },
  {
   "cell_type": "code",
   "execution_count": null,
   "metadata": {},
   "outputs": [],
   "source": [
    "month_df[\"Area\"].tolist()\n",
    "\n"
   ]
  },
  {
   "cell_type": "code",
   "execution_count": null,
   "metadata": {},
   "outputs": [],
   "source": [
    "country='United States of America'\n",
    "\n",
    "#Get avg_temp change by season for the selected country\n",
    "months_country_mean = month_df.loc[month_df['Area'] == country] \n",
    "months_country_mean.set_index(\"Months\" , inplace=True)\n",
    "months_country_mean"
   ]
  },
  {
   "cell_type": "code",
   "execution_count": null,
   "metadata": {},
   "outputs": [],
   "source": [
    "#Drop unwanted fields\n",
    "months_country_mean = months_country_mean.drop(['field1','Area', 'Element', 'Unit'], 1)\n",
    "#Get years data\n",
    "years = months_country_mean.columns\n",
    " "
   ]
  },
  {
   "cell_type": "code",
   "execution_count": null,
   "metadata": {},
   "outputs": [],
   "source": [
    "\n",
    "months_country_mean"
   ]
  },
  {
   "cell_type": "code",
   "execution_count": null,
   "metadata": {},
   "outputs": [],
   "source": [
    "months_list = []\n",
    "# Get months for each country\n",
    "months = months_country_mean.index\n",
    "\n",
    "\n",
    "for year in years:\n",
    "    mon_obj = {\n",
    "              \"year\":year\n",
    "              }\n",
    "    for month in months:\n",
    "        mon_obj[month] = months_country_mean.loc[month , year]        \n",
    "                \n",
    "    months_list.append(mon_obj) \n",
    "       \n",
    "        \n",
    "months_list\n"
   ]
  },
  {
   "cell_type": "code",
   "execution_count": null,
   "metadata": {},
   "outputs": [],
   "source": [
    "group_temp = temp_df.groupby('Area')\n",
    "group_temp.mean()"
   ]
  },
  {
   "cell_type": "code",
   "execution_count": null,
   "metadata": {},
   "outputs": [],
   "source": []
  },
  {
   "cell_type": "code",
   "execution_count": null,
   "metadata": {},
   "outputs": [],
   "source": []
  },
  {
   "cell_type": "code",
   "execution_count": null,
   "metadata": {},
   "outputs": [],
   "source": []
  }
 ],
 "metadata": {
  "kernelspec": {
   "display_name": "Python [conda env:pythonData] *",
   "language": "python",
   "name": "conda-env-pythonData-py"
  },
  "language_info": {
   "codemirror_mode": {
    "name": "ipython",
    "version": 3
   },
   "file_extension": ".py",
   "mimetype": "text/x-python",
   "name": "python",
   "nbconvert_exporter": "python",
   "pygments_lexer": "ipython3",
   "version": "3.6.12"
  }
 },
 "nbformat": 4,
 "nbformat_minor": 4
}
